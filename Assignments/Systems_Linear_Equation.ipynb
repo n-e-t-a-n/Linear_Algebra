{
 "cells": [
  {
   "cell_type": "markdown",
   "metadata": {},
   "source": [
    "# Assignment 2"
   ]
  },
  {
   "cell_type": "markdown",
   "metadata": {},
   "source": [
    "### 1. Provide reasons why each of the following equations is, or is not, a linear equation."
   ]
  },
  {
   "cell_type": "markdown",
   "metadata": {},
   "source": [
    "a. $cos{\\theta}x+4y+z = \\sqrt{3}$<br>\n",
    "b. $cos{x}4y+z = \\sqrt{3}$<br>\n",
    "\n",
    "Both of these equations are non-linear because of the presence of the cosine.\n",
    "\n",
    "c. $x^{-1}+7y+z = \\sin{(\\frac{\\pi}{2})}$<br>\n",
    "\n",
    "This is also non-linear because x has an exponent that is not 1 (it is raised to the -1)\n",
    "\n",
    "d. $x^1+y^1+z^1=0$<br>\n",
    "\n",
    "This is a linear equation because it satisfies the form ax + by + c = 0. Since x^1 = x, we can say that it is a linear equation."
   ]
  },
  {
   "cell_type": "markdown",
   "metadata": {},
   "source": [
    "### 2. Find the solutions to the linear equations:"
   ]
  },
  {
   "cell_type": "markdown",
   "metadata": {},
   "source": [
    "$2x_1+3x_2 =5$ <br> \n",
    "$x_2 = s$ <br>\n",
    "$2x_1+3s =5$<br>\n",
    "$x_1 = \\frac{5-3s}{2}$<br>\n",
    "\\begin{pmatrix}\n",
    "    1 & 0 &\\bigm| & \\frac{5-3s}{2} \\\\\n",
    "    0 & 1 &\\bigm| & s \\\\\n",
    "\\end{pmatrix}\n",
    "<br>\n",
    "$4x_1+3x_2+2x_3=1$ <br>\n",
    "$x_2 = s$ <br> $x_3 = t$ <br>\n",
    "$4x_1+3s+2t=1$<br>\n",
    "$x_1 = \\frac{1-3s-2t}{4}$<br>\n",
    "\\begin{pmatrix}\n",
    "    1 & 0 & 0 &\\bigm| & \\frac{1-3s-2t}{4} \\\\\n",
    "    0 & 1 & 0 &\\bigm| & s \\\\\n",
    "    0 & 0 & 1 &\\bigm| & t \\\\\n",
    "\\end{pmatrix}\n",
    "<br>\n",
    "$3x-6y=0$ <br>\n",
    "$y = s$ <br> $3x-6s =0$<br>\n",
    "$x = 6s$<br>\n",
    "\\begin{pmatrix}\n",
    "    1 & 0 &\\bigm| & 2s \\\\\n",
    "    0 & 1 &\\bigm| & s \\\\\n",
    "\\end{pmatrix}\n",
    "<br>​\n"
   ]
  },
  {
   "cell_type": "markdown",
   "metadata": {},
   "source": [
    "### 3. Solve the following systems of linear equations:"
   ]
  },
  {
   "cell_type": "markdown",
   "metadata": {},
   "source": [
    "### 4. Provide reasons why the given matrices are either a row echelon, a reduced row echelon, or niether both."
   ]
  },
  {
   "cell_type": "markdown",
   "metadata": {},
   "source": [
    "a. <br>\n",
    "\\begin{pmatrix}\n",
    "   1 & 0 & 1 \\\\\n",
    "   0 & 0 & 3 \\\\\n",
    "   0 & 1 & 0 \\\\\n",
    "\\end{pmatrix}\n",
    "\n",
    "NEITHER. There is a 0 on row 2 that is to the left of the final 0 in row 3.\n",
    "\n",
    "b. <br>\n",
    "\\begin{pmatrix}\n",
    "   7 & 0 & 1 & 0 \\\\\n",
    "   0 & 1 & -1 & 4 \\\\\n",
    "   0 & 0 & 0 & 0 \\\\\n",
    "\\end{pmatrix}\n",
    "\n",
    "ROW ECHELON FORM. The leading 0s go from left to right in a top to down order, but the leading number in the top row is 7, and not 1.\n",
    "\n",
    "c. <br>\n",
    "\\begin{pmatrix}\n",
    "   0 & 1 & 3 & 0 \\\\\n",
    "   0 & 0 & 0 & 1 \\\\\n",
    "\\end{pmatrix}\n",
    "\n",
    "ROW ECHELON FORM. There is a 3 after the leading entry in the first row.\n",
    "\n",
    "d. <br>\n",
    "\\begin{pmatrix}\n",
    "   0 & 0 & 0 \\\\\n",
    "   0 & 0 & 0 \\\\\n",
    "   0 & 0 & 0 \\\\\n",
    "\\end{pmatrix}\n",
    "\n",
    "REDUCED ROW ECHELON FORM. There are no non-zero entries after the leading entries and the leading entries do not come in the column after the leading entry in the next row.\n",
    "\n",
    "e. <br>\n",
    "\\begin{pmatrix}\n",
    "   1 & 0 & 3 & -4 & 0 \\\\\n",
    "   0 & 0 & 0 & 0 & 0 \\\\\n",
    "   0 & 1 & 5 & 0 & 1 \\\\\n",
    "\\end{pmatrix}\n",
    "\n",
    "NEITHER. The leading entry in row 3 can be found in a column before the leading entry in row 2.\n",
    "\n",
    "f. <br>\n",
    "\\begin{pmatrix}\n",
    "   0 & 0 & 1 \\\\\n",
    "   0 & 1 & 0 \\\\\n",
    "   1 & 0 & 0 \\\\\n",
    "\\end{pmatrix}\n",
    "\n",
    "NEITHER. The leading entry in row 2 can be found in a column before the leading entry in row 1.\n",
    "\n",
    "g. <br>\n",
    "\\begin{pmatrix}\n",
    "   1 & 2 & 3 \\\\\n",
    "   1 & 0 & 0 \\\\\n",
    "   0 & 1 & 1 \\\\\n",
    "   0 & 0 & 1 \\\\\n",
    "\\end{pmatrix}\n",
    "\n",
    "ROW ECHELON FORM. There are no leading entries which come in the column after the preceeding row/s. However, there are non-zero entries after the leading entry.\n",
    "\n",
    "h. <br>\n",
    "\\begin{pmatrix}\n",
    "   2 & 1 & 3 & 5 \\\\\n",
    "   0 & 0 & 1 & -1 \\\\\n",
    "   0 & 0 & 0 & 3 \\\\\n",
    "   0 & 0 & 0 & 0 \\\\\n",
    "\\end{pmatrix}\n",
    "\n",
    "ROW ECHELON FORM. There are no leading entries which come in the column after the preceeding row/s. However, there are non-zero entries after the leading entry.\n"
   ]
  }
 ],
 "metadata": {
  "kernelspec": {
   "display_name": "Python 3",
   "language": "python",
   "name": "python3"
  },
  "language_info": {
   "codemirror_mode": {
    "name": "ipython",
    "version": 3
   },
   "file_extension": ".py",
   "mimetype": "text/x-python",
   "name": "python",
   "nbconvert_exporter": "python",
   "pygments_lexer": "ipython3",
   "version": "3.9.1"
  },
  "orig_nbformat": 4
 },
 "nbformat": 4,
 "nbformat_minor": 2
}
