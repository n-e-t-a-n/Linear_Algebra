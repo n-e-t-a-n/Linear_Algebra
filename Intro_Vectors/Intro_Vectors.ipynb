{
 "cells": [
  {
   "cell_type": "markdown",
   "metadata": {},
   "source": [
    "# Assignment"
   ]
  },
  {
   "cell_type": "markdown",
   "metadata": {},
   "source": [
    "## 1. Let $\\textbf{u} = (1, -2, 4)$ and $\\textbf{v} = (3,5,1)$ $\\textbf{w} = (2,1,-3)$ find:\n"
   ]
  },
  {
   "cell_type": "markdown",
   "metadata": {},
   "source": [
    "a. $3\\textbf{u}-2\\textbf{v}$<br>\n",
    "\n",
    "### **Manual Solution:**\n",
    "\n",
    "$$\n",
    "\n",
    "\\begin{align*}\n",
    "\n",
    "3\\textbf{u} - 2\\textbf{v} &= 3(1,-2,4) - 2(3,5,1) \\\\\n",
    "&= (3,-6,12) - (6,10,2)\\\\\n",
    "&= (-3,-16,10)\n",
    "\n",
    "\\end{align*}\n",
    "\n",
    "$$"
   ]
  },
  {
   "cell_type": "markdown",
   "metadata": {},
   "source": [
    "b. $5\\textbf{u}+3\\textbf{v}-4\\textbf{w}$<br>\n",
    "\n",
    "### **Manual Solution:**\n",
    "\n",
    "$$\n",
    "\\begin{align*}\n",
    "\n",
    "5\\textbf{u} + 3\\textbf{v} - 4\\textbf{w} &= 5(1,-2,4) + 3(3,5,1) - 4(2,1,-3)\\\\\n",
    "&= (5,-10,20) + (9,15,3) - (8,4,-12)\\\\\n",
    "&= (6,1,35)\n",
    "\n",
    "\\end{align*}\n",
    "$$"
   ]
  },
  {
   "cell_type": "markdown",
   "metadata": {},
   "source": [
    "c. $\\textbf{u} \\cdotp \\textbf{v}$,$\\textbf{v} \\cdotp \\textbf{w}$, $\\textbf{u} \\cdotp \\textbf{w}$\n",
    "\n",
    "### **Manual Solution:**\n",
    "\n",
    "$$\n",
    "\n",
    "\\begin{align*}\n",
    "\n",
    "\\textbf{u} \\cdotp \\textbf{v} &= (1,-2,4) \\cdotp (3,5,1) = (3,-10,4) = 3 - 10 + 4 = -3\\\\\n",
    "\\textbf{v} \\cdotp \\textbf{w} &= (3,5,1) \\cdotp (2,1,-3) = (6,5,-3) = 6 + 5 - 3 = 8\\\\\n",
    "\\textbf{u} \\cdotp \\textbf{w} &= (1,-2,4) \\cdotp (2,1,-3) = (2,-2,-12) = 2 - 2 - 12 = -12\n",
    "\n",
    "\\end{align*}\n",
    "\n",
    "$$"
   ]
  },
  {
   "cell_type": "markdown",
   "metadata": {},
   "source": [
    "d. ||$\\textbf{u}||, ||\\textbf{v}||, ||\\textbf{w}$||\n",
    "\n",
    "### **Manual Solution:**\n",
    "\n",
    "$$\n",
    "\n",
    "\\begin{align*}\n",
    "\n",
    "||\\textbf{u}|| &= \\sqrt{(1^2 + -2^2 + 4^2)} &= \\sqrt{(1 + 4 + 16)} &= \\sqrt{21} \\\\\n",
    "||\\textbf{v}|| &= \\sqrt{(3^2 + 5^2 + 1^2)} &= \\sqrt{(9 + 25 + 1)} &= \\sqrt{35} \\\\\n",
    "||\\textbf{w}|| &= \\sqrt{(2^2 + 1^2 + -3^2)} &= \\sqrt{(4 + 1 + 9)} &= \\sqrt{14}\n",
    "\n",
    "\\end{align*}\n",
    "\n",
    "$$"
   ]
  },
  {
   "cell_type": "markdown",
   "metadata": {},
   "source": [
    "e. If $\\theta$ is the angle between $\\textbf{u}$  and   $\\textbf{v}$, find $\\cos{\\theta}$\n",
    "\n",
    "### **Manual Solution:**\n",
    "\n",
    "$$\n",
    "\n",
    "\\begin{align*}\n",
    "\n",
    "\\cos{\\theta} &= \\frac{\\textbf{u} \\cdotp \\textbf{v}}{||\\textbf{u}|| ||\\textbf{v}||} \\\\ \\\\\n",
    "&= - \\frac{3}{\\sqrt{21}\\sqrt{35}} \\\\\n",
    "\n",
    "\\end{align*}\n",
    "$$"
   ]
  },
  {
   "cell_type": "markdown",
   "metadata": {},
   "source": [
    "f. If $\\alpha$ is the angle between $\\textbf{v}$  and   $\\textbf{w}$, find $\\cos{\\alpha}$\n",
    "\n",
    "### **Manual Solution:**\n",
    "\n",
    "$$\n",
    "\n",
    "\\begin{align*}\n",
    "\n",
    "\\cos{\\alpha} &= \\frac{\\textbf{u} \\cdotp \\textbf{w}}{||\\textbf{v}|| ||\\textbf{w}||} \\\\ \\\\\n",
    "&= \\frac{8}{\\sqrt{35}\\sqrt{14}} \\\\\n",
    "\n",
    "\\end{align*}\n",
    "$$\n"
   ]
  },
  {
   "cell_type": "markdown",
   "metadata": {},
   "source": [
    "g. If $\\beta$ is the angle between $\\textbf{u}$  and   $\\textbf{w}$, find $\\cos{\\beta}$\n",
    "\n",
    "### **Manual Solution:**\n",
    "\n",
    "$$\n",
    "\n",
    "\\begin{align*}\n",
    "\n",
    "\\cos{\\beta} &= \\frac{\\textbf{u} \\cdotp \\textbf{w}}{||\\textbf{u}|| ||\\textbf{w}||} \\\\ \\\\\n",
    "&= -\\frac{12}{\\sqrt{21}\\sqrt{14}} \\\\\n",
    "\n",
    "\\end{align*}\n",
    "$$\n"
   ]
  },
  {
   "cell_type": "markdown",
   "metadata": {},
   "source": [
    "h. Find $d(\\textbf{u},\\textbf{v})$\n",
    "\n",
    "### **Manual Solution:**\n",
    "\n",
    "$$\n",
    "\n",
    "\\begin{align*}\n",
    "\n",
    "d(\\textbf{u},\\textbf{v}) &= || \\textbf{u} - \\textbf{v} || \\\\\n",
    "&= || (1,-2,4) - (3,5,1) || \\\\\n",
    "&= || (-2,-7,3) || \\\\\n",
    "&= \\sqrt{-2^2 + -7^2 + 3^2} \\\\\n",
    "&= \\sqrt{4 + 49 + 9} \\\\\n",
    "&= \\sqrt{62}\n",
    "\n",
    "\\end{align*}\n",
    "$$\n"
   ]
  },
  {
   "cell_type": "markdown",
   "metadata": {},
   "source": [
    "i. Find $d(\\textbf{w},\\textbf{v})$\n",
    "\n",
    "### **Manual Solution:**\n",
    "\n",
    "$$\n",
    "\n",
    "\\begin{align*}\n",
    "\n",
    "d(\\textbf{w},\\textbf{v}) &= || \\textbf{w} - \\textbf{v} || \\\\\n",
    "&= || (2,1,-3) - (3,5,1) || \\\\\n",
    "&= || (-1,-4,-4) || \\\\\n",
    "&= \\sqrt{-1^2 + -4^2 + -4^2} \\\\\n",
    "&= \\sqrt{1 + 16 + 16} \\\\\n",
    "&= \\sqrt{33}\n",
    "\n",
    "\\end{align*}\n",
    "$$\n"
   ]
  },
  {
   "cell_type": "markdown",
   "metadata": {},
   "source": [
    "j. Find $d(\\textbf{u},\\textbf{w})$\n",
    "\n",
    "### **Manual Solution:**\n",
    "\n",
    "$$\n",
    "\n",
    "\\begin{align*}\n",
    "\n",
    "d(\\textbf{u},\\textbf{w}) &= || \\textbf{u} - \\textbf{w} || \\\\\n",
    "&= || (1,-2,4) - (2,1,-3) || \\\\\n",
    "&= || (-1,-3,7) || \\\\\n",
    "&= \\sqrt{-1^2 + -3^2 + 7^2} \\\\\n",
    "&= \\sqrt{1 + 9 + 49} \\\\\n",
    "&= \\sqrt{59}\n",
    "\n",
    "\\end{align*}\n",
    "$$\n"
   ]
  },
  {
   "cell_type": "markdown",
   "metadata": {},
   "source": [
    "k. Find $proj(\\textbf{u},\\textbf{v})$\n",
    "\n",
    "### **Manual Solution:**\n",
    "\n",
    "$$\n",
    "\n",
    "\\begin{align*}\n",
    "\n",
    "proj(\\textbf{u},\\textbf{v}) &= \\frac{\\textbf{u} \\cdotp \\textbf{v}}{||\\textbf{v}||^2}\\textbf{v} \\\\\\\\\n",
    "&= \\frac{-3}{\\sqrt{35}^2}\\textbf{v} \\\\\\\\\n",
    "&= \\frac{-3}{35}(3,5,1) \\\\\\\\\n",
    "&= (-\\frac{9}{35}, -\\frac{15}{35},-\\frac{3}{35})\n",
    "\n",
    "\n",
    "\\end{align*}\n",
    "$$\n"
   ]
  },
  {
   "cell_type": "markdown",
   "metadata": {},
   "source": [
    "l. Find $proj(\\textbf{w},\\textbf{v})$\n",
    "\n",
    "### **Manual Solution:**\n",
    "\n",
    "$$\n",
    "\n",
    "\\begin{align*}\n",
    "\n",
    "proj(\\textbf{w},\\textbf{v}) &= \\frac{\\textbf{w} \\cdotp \\textbf{v}}{||\\textbf{v}||^2}\\textbf{v} \\\\\\\\\n",
    "&= \\frac{8}{\\sqrt{35}^2}\\textbf{v} \\\\\\\\\n",
    "&= \\frac{8}{35}(3,5,1) \\\\\\\\\n",
    "&= (\\frac{24}{35}, 1\\frac{1}{7},\\frac{8}{35})\n",
    "\n",
    "\n",
    "\\end{align*}\n",
    "$$\n"
   ]
  },
  {
   "cell_type": "markdown",
   "metadata": {},
   "source": [
    "m. Find $proj(\\textbf{u},\\textbf{w})$\n",
    "\n",
    "### **Manual Solution:**\n",
    "\n",
    "$$\n",
    "\n",
    "\\begin{align*}\n",
    "\n",
    "proj(\\textbf{u},\\textbf{w}) &= \\frac{\\textbf{u} \\cdotp \\textbf{w}}{||\\textbf{w}||^2}\\textbf{w} \\\\\\\\\n",
    "&= \\frac{-12}{\\sqrt{14}^2}\\textbf{v} \\\\\\\\\n",
    "&= \\frac{-12}{14}(2,1,-3) \\\\\\\\\n",
    "&= (-1\\frac{5}{7}, -\\frac{6}{7},2\\frac{4}{7})\n",
    "\n",
    "\n",
    "\\end{align*}\n",
    "$$\n"
   ]
  },
  {
   "cell_type": "markdown",
   "metadata": {},
   "source": [
    "## 2. Repeat problem 1 with the following column vectors:\n",
    "\n",
    "$$\n",
    "\\begin{align*}\n",
    "    \\textbf{u} &= \\begin{bmatrix}\n",
    "           1 \\\\\n",
    "           3 \\\\\n",
    "           -4\n",
    "         \\end{bmatrix}, \\textbf{v} = \\begin{bmatrix}\n",
    "           2 \\\\\n",
    "           1 \\\\\n",
    "           5\n",
    "         \\end{bmatrix}, \\textbf{w} = \\begin{bmatrix}\n",
    "           3 \\\\\n",
    "           -2 \\\\\n",
    "           6\n",
    "         \\end{bmatrix}\n",
    "  \\end{align*}\n",
    "  $$\n"
   ]
  },
  {
   "cell_type": "markdown",
   "metadata": {},
   "source": [
    "a. $3\\textbf{u}-2\\textbf{v}$<br>\n",
    "\n",
    "### **Manual Solution:**\n",
    "\n",
    "$$\n",
    "\n",
    "\\begin{align*}\n",
    "\n",
    "3\\textbf{u} - 2\\textbf{v} &= 3\\begin{bmatrix}1\\\\3\\\\-4\\end{bmatrix} - 2\\begin{bmatrix}2\\\\1\\\\5\\end{bmatrix} \\\\\\\\\\\\\n",
    "&= \\begin{bmatrix}3\\\\9\\\\-12\\end{bmatrix} - \\begin{bmatrix}4\\\\2\\\\10\\end{bmatrix}\\\\\\\\\\\\\n",
    "&= \\begin{bmatrix}1\\\\7\\\\-22\\end{bmatrix}\n",
    "\n",
    "\n",
    "\\end{align*}\n",
    "\n",
    "$$"
   ]
  },
  {
   "cell_type": "markdown",
   "metadata": {},
   "source": [
    "b. $5\\textbf{u}+3\\textbf{v}-4\\textbf{w}$<br>\n",
    "\n",
    "### **Manual Solution:**\n",
    "\n",
    "$$\n",
    "\n",
    "\\begin{align*}\n",
    "\n",
    "5\\textbf{u} + 3\\textbf{v} - 4\\textbf{w} &= 5\\begin{bmatrix}1\\\\3\\\\-4\\end{bmatrix} + 3\\begin{bmatrix}2\\\\1\\\\5\\end{bmatrix} - 4\\begin{bmatrix}3\\\\-2\\\\6\\end{bmatrix} \\\\\\\\\\\\\n",
    "&= \\begin{bmatrix}5\\\\15\\\\-20\\end{bmatrix} + \\begin{bmatrix}6\\\\3\\\\15\\end{bmatrix} - \\begin{bmatrix}12\\\\-8\\\\24\\end{bmatrix}\\\\\\\\\\\\\n",
    "&= \\begin{bmatrix}-1\\\\26\\\\-29\\end{bmatrix}\n",
    "\n",
    "\n",
    "\\end{align*}\n",
    "\n",
    "$$"
   ]
  },
  {
   "cell_type": "markdown",
   "metadata": {},
   "source": [
    "c. $\\textbf{u} \\cdotp \\textbf{v}$,$\\textbf{v} \\cdotp \\textbf{w}$, $\\textbf{u} \\cdotp \\textbf{w}$\n",
    "\n",
    "### **Manual Solution:**\n",
    "\n",
    "$$\n",
    "\n",
    "\\begin{align*}\n",
    "\n",
    "\\textbf{u} \\cdotp \\textbf{v} &= \\begin{bmatrix}1\\\\3\\\\-4\\end{bmatrix} \\cdotp \\begin{bmatrix}2\\\\1\\\\5\\end{bmatrix} = \\begin{bmatrix}2\\\\3\\\\-20\\end{bmatrix} = 2 + 3 - 20 = -15\\\\\\\\\n",
    "\\textbf{v} \\cdotp \\textbf{w} &= \\begin{bmatrix}2\\\\1\\\\5\\end{bmatrix} \\cdotp \\begin{bmatrix}3\\\\-2\\\\6\\end{bmatrix} = \\begin{bmatrix}6\\\\-2\\\\30\\end{bmatrix} = 6 - 2 + 30 = 34\\\\\\\\\n",
    "\\textbf{u} \\cdotp \\textbf{w} &= \\begin{bmatrix}1\\\\3\\\\-4\\end{bmatrix} \\cdotp \\begin{bmatrix}3\\\\-2\\\\6\\end{bmatrix} = \\begin{bmatrix}3\\\\-6\\\\-24\\end{bmatrix} = 3 - 6 - 24 = -27\n",
    "\n",
    "\\end{align*}\n",
    "\n",
    "$$"
   ]
  },
  {
   "cell_type": "markdown",
   "metadata": {},
   "source": [
    "d. ||$\\textbf{u}||, ||\\textbf{v}||, ||\\textbf{w}$||\n",
    "\n",
    "### **Manual Solution:**\n",
    "\n",
    "$$\n",
    "\n",
    "\\begin{align*}\n",
    "\n",
    "||\\textbf{u}|| &= \\sqrt{(1^2 + 3^2 + -4^2)} &= \\sqrt{(1 + 9 + 16)} &= \\sqrt{26} \\\\\n",
    "||\\textbf{v}|| &= \\sqrt{(2^2 + 1^2 + 5^2)} &= \\sqrt{(4 + 1 + 25)} &= \\sqrt{30} \\\\\n",
    "||\\textbf{w}|| &= \\sqrt{(3^2 + -2^2 + 6^2)} &= \\sqrt{(9 + 4 + 36)} &= \\sqrt{49} = 7\n",
    "\n",
    "\\end{align*}\n",
    "\n",
    "$$"
   ]
  },
  {
   "cell_type": "markdown",
   "metadata": {},
   "source": [
    "e. If $\\theta$ is the angle between $\\textbf{u}$  and   $\\textbf{v}$, find $\\cos{\\theta}$\n",
    "\n",
    "### **Manual Solution:**\n",
    "\n",
    "$$\n",
    "\n",
    "\\begin{align*}\n",
    "\n",
    "\\cos{\\theta} &= \\frac{\\textbf{u} \\cdotp \\textbf{v}}{||\\textbf{u}|| ||\\textbf{v}||} \\\\ \\\\\n",
    "&= - \\frac{15}{\\sqrt{26}\\sqrt{30}} \\\\\n",
    "\n",
    "\\end{align*}\n",
    "$$"
   ]
  },
  {
   "cell_type": "markdown",
   "metadata": {},
   "source": [
    "f. If $\\alpha$ is the angle between $\\textbf{v}$  and   $\\textbf{w}$, find $\\cos{\\alpha}$\n",
    "\n",
    "### **Manual Solution:**\n",
    "\n",
    "$$\n",
    "\n",
    "\\begin{align*}\n",
    "\n",
    "\\cos{\\alpha} &= \\frac{\\textbf{u} \\cdotp \\textbf{w}}{||\\textbf{v}|| ||\\textbf{w}||} \\\\ \\\\\n",
    "&= \\frac{34}{7\\sqrt{30}} \\\\\n",
    "\n",
    "\\end{align*}\n",
    "$$\n"
   ]
  },
  {
   "cell_type": "markdown",
   "metadata": {},
   "source": [
    "g. If $\\beta$ is the angle between $\\textbf{u}$  and   $\\textbf{w}$, find $\\cos{\\beta}$\n",
    "\n",
    "### **Manual Solution:**\n",
    "\n",
    "$$\n",
    "\n",
    "\\begin{align*}\n",
    "\n",
    "\\cos{\\beta} &= \\frac{\\textbf{u} \\cdotp \\textbf{w}}{||\\textbf{u}|| ||\\textbf{w}||} \\\\ \\\\\n",
    "&= -\\frac{27}{7\\sqrt{26}} \\\\\n",
    "\n",
    "\\end{align*}\n",
    "$$\n"
   ]
  },
  {
   "cell_type": "markdown",
   "metadata": {},
   "source": [
    "h. Find $d(\\textbf{u},\\textbf{v})$\n",
    "\n",
    "### **Manual Solution:**\n",
    "\n",
    "$$\n",
    "\n",
    "\\begin{align*}\n",
    "\n",
    "d(\\textbf{u},\\textbf{v}) &= || \\textbf{u} - \\textbf{v} || \\\\\n",
    "&= || (1,3,-4) - (2,1,5) || \\\\\n",
    "&= || (-1,2,-9) || \\\\\n",
    "&= \\sqrt{-1^2 + 2^2 + -9^2} \\\\\n",
    "&= \\sqrt{1 + 4 + 81} \\\\\n",
    "&= \\sqrt{86}\n",
    "\n",
    "\\end{align*}\n",
    "$$\n"
   ]
  },
  {
   "cell_type": "markdown",
   "metadata": {},
   "source": [
    "i. Find $d(\\textbf{w},\\textbf{v})$\n",
    "\n",
    "### **Manual Solution:**\n",
    "\n",
    "$$\n",
    "\n",
    "\\begin{align*}\n",
    "\n",
    "d(\\textbf{w},\\textbf{v}) &= || \\textbf{w} - \\textbf{v} || \\\\\n",
    "&= || (3,-2,6) - (2,1,5) || \\\\\n",
    "&= || (1,-3,1) || \\\\\n",
    "&= \\sqrt{1^2 + -3^2 + 1^2} \\\\\n",
    "&= \\sqrt{1 + 9 + 1} \\\\\n",
    "&= \\sqrt{11}\n",
    "\n",
    "\\end{align*}\n",
    "$$\n"
   ]
  },
  {
   "cell_type": "markdown",
   "metadata": {},
   "source": [
    "j. Find $d(\\textbf{u},\\textbf{w})$\n",
    "\n",
    "### **Manual Solution:**\n",
    "\n",
    "$$\n",
    "\n",
    "\\begin{align*}\n",
    "\n",
    "d(\\textbf{u},\\textbf{w}) &= || \\textbf{u} - \\textbf{w} || \\\\\n",
    "&= || (1,3,-4) - (3,-2,6) || \\\\\n",
    "&= || (-2,5,-10) || \\\\\n",
    "&= \\sqrt{-2^2 + 5^2 + -10^2} \\\\\n",
    "&= \\sqrt{4 + 25 + 100} \\\\\n",
    "&= \\sqrt{129}\n",
    "\n",
    "\\end{align*}\n",
    "$$\n"
   ]
  },
  {
   "cell_type": "markdown",
   "metadata": {},
   "source": [
    "k. Find $proj(\\textbf{u},\\textbf{v})$\n",
    "\n",
    "### **Manual Solution:**\n",
    "\n",
    "$$\n",
    "\n",
    "\\begin{align*}\n",
    "\n",
    "proj(\\textbf{u},\\textbf{v}) &= \\frac{\\textbf{u} \\cdotp \\textbf{v}}{||\\textbf{v}||^2}\\textbf{v} \\\\\\\\\n",
    "&= \\frac{-15}{\\sqrt{30}^2}\\textbf{v} \\\\\\\\\n",
    "&= \\frac{-15}{30}(2,1,5) \\\\\\\\\n",
    "&= (-1, -\\frac{1}{2},-2\\frac{1}{2})\n",
    "\n",
    "\n",
    "\\end{align*}\n",
    "$$\n"
   ]
  },
  {
   "cell_type": "markdown",
   "metadata": {},
   "source": [
    "l. Find $proj(\\textbf{w},\\textbf{v})$\n",
    "\n",
    "### **Manual Solution:**\n",
    "\n",
    "$$\n",
    "\n",
    "\\begin{align*}\n",
    "\n",
    "proj(\\textbf{w},\\textbf{v}) &= \\frac{\\textbf{w} \\cdotp \\textbf{v}}{||\\textbf{v}||^2}\\textbf{v} \\\\\\\\\n",
    "&= \\frac{34}{\\sqrt{30}^2}\\textbf{v} \\\\\\\\\n",
    "&= \\frac{34}{30}(2,1,5) \\\\\\\\\n",
    "&= (2\\frac{4}{15}, 1\\frac{2}{15},5\\frac{2}{3})\n",
    "\n",
    "\n",
    "\\end{align*}\n",
    "$$\n"
   ]
  },
  {
   "cell_type": "markdown",
   "metadata": {},
   "source": [
    "m. Find $proj(\\textbf{u},\\textbf{w})$\n",
    "\n",
    "### **Manual Solution:**\n",
    "\n",
    "$$\n",
    "\n",
    "\\begin{align*}\n",
    "\n",
    "proj(\\textbf{u},\\textbf{w}) &= \\frac{\\textbf{u} \\cdotp \\textbf{w}}{||\\textbf{w}||^2}\\textbf{w} \\\\\\\\\n",
    "&= \\frac{-27}{7^2}\\textbf{v} \\\\\\\\\n",
    "&= \\frac{-27}{49}(3,-2,6) \\\\\\\\\n",
    "&= (-1\\frac{32}{49}, 1\\frac{5}{49},-3\\frac{15}{49})\n",
    "\n",
    "\n",
    "\\end{align*}\n",
    "$$\n"
   ]
  },
  {
   "cell_type": "markdown",
   "metadata": {},
   "source": []
  },
  {
   "cell_type": "markdown",
   "metadata": {},
   "source": []
  }
 ],
 "metadata": {
  "kernelspec": {
   "display_name": "Python 3",
   "language": "python",
   "name": "python3"
  },
  "language_info": {
   "name": "python",
   "version": "3.9.11"
  },
  "orig_nbformat": 4
 },
 "nbformat": 4,
 "nbformat_minor": 2
}
